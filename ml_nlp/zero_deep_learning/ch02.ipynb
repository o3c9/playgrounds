{
 "nbformat": 4,
 "nbformat_minor": 2,
 "metadata": {
  "language_info": {
   "name": "python",
   "codemirror_mode": {
    "name": "ipython",
    "version": 3
   },
   "version": "3.7.6-final"
  },
  "orig_nbformat": 2,
  "file_extension": ".py",
  "mimetype": "text/x-python",
  "name": "python",
  "npconvert_exporter": "python",
  "pygments_lexer": "ipython3",
  "version": 3,
  "kernelspec": {
   "name": "python3",
   "display_name": "Python 3"
  }
 },
 "cells": [
  {
   "cell_type": "code",
   "execution_count": 2,
   "metadata": {},
   "outputs": [],
   "source": [
    "import numpy as np"
   ]
  },
  {
   "cell_type": "markdown",
   "metadata": {},
   "source": [
    "## パーセプトロン\n",
    "\n",
    "パーセプトロンとは，複数の信号を入力として受け取り，1つの信号を出力する．パーセプトロンの出力は，１か０の二値である．\n",
    "\n",
    "$$\n",
    "y = \\begin{cases}\n",
    "    0 \\quad(w_1 x_1 + w_2 x_2 \\leqq \\theta) \\\\\n",
    "    1 \\quad(w_1 x_1 + w_2 x_2 > \\theta) \\\\\n",
    "\\end{cases}\n",
    "$$\n",
    "\n",
    "$\\theta$を，左辺に移してバイアスとすると，\n",
    "\n",
    "\n",
    "$$\n",
    "y = \\begin{cases}\n",
    "    0 \\quad(b + w_1 x_1 + w_2 x_2 \\leqq 0) \\\\\n",
    "    1 \\quad(b + w_1 x_1 + w_2 x_2 > 0) \\\\\n",
    "\\end{cases}\n",
    "$$\n",
    "\n",
    "これをnumpyを使って実装したのがこちら:"
   ]
  },
  {
   "cell_type": "code",
   "execution_count": 7,
   "metadata": {},
   "outputs": [],
   "source": [
    "def AND(x1, x2):\n",
    "    x = np.array([x1, x2])\n",
    "    w = np.array([0.5, 0.5])\n",
    "    b = -0.7\n",
    "    tmp = np.sum(w*x) + b\n",
    "    if tmp <= 0:\n",
    "        return 0\n",
    "    elif tmp > 0:\n",
    "        return 1"
   ]
  },
  {
   "cell_type": "code",
   "execution_count": 8,
   "metadata": {},
   "outputs": [
    {
     "output_type": "stream",
     "name": "stdout",
     "text": "0\n0\n1\n0\n"
    }
   ],
   "source": [
    "print(AND(0, 0))\n",
    "print(AND(1, 0))\n",
    "print(AND(0, 1))\n",
    "print(AND(1, 1))"
   ]
  },
  {
   "cell_type": "code",
   "execution_count": 11,
   "metadata": {},
   "outputs": [],
   "source": [
    "# NANDとORも実装する - 重みとバイアスだけが異なり，パーセプトロンの実装自体は変わっていない！\n",
    "def OR(x1, x2):\n",
    "    x = np.array([x1, x2])\n",
    "    w = np.array([0.5, 0.5])\n",
    "    b = -0.2\n",
    "    tmp = np.sum(w*x) + b\n",
    "    if tmp <= 0:\n",
    "        return 0\n",
    "    elif tmp > 0:\n",
    "        return 1\n",
    "\n",
    "def NAND(x1, x2):\n",
    "    x = np.array([x1, x2])\n",
    "    w = np.array([-0.5, -0.5])\n",
    "    b = 0.7\n",
    "    tmp = np.sum(w*x) + b\n",
    "    if tmp <= 0:\n",
    "        return 0\n",
    "    elif tmp > 0:\n",
    "        return 1\n",
    "        "
   ]
  },
  {
   "cell_type": "code",
   "execution_count": 15,
   "metadata": {},
   "outputs": [
    {
     "output_type": "stream",
     "name": "stdout",
     "text": "OR:\n0\n1\n1\n1\n----\nNAND:\n1\n1\n1\n0\n"
    }
   ],
   "source": [
    "print(\"OR:\")\n",
    "print(OR(0, 0))\n",
    "print(OR(1, 0))\n",
    "print(OR(0, 1))\n",
    "print(OR(1, 1))\n",
    "print(\"----\")\n",
    "print(\"NAND:\")\n",
    "print(NAND(0, 0))\n",
    "print(NAND(1, 0))\n",
    "print(NAND(0, 1))\n",
    "print(NAND(1, 1))"
   ]
  },
  {
   "cell_type": "markdown",
   "metadata": {},
   "source": [
    "## パーセプトロンの限界\n",
    "\n",
    "パーセプトロンは線形であり、排他的論理和の表現ができない．しかしそれは1つのパーセプトロンでは実現不可能と言うことであり、パーセプトロンを組み合わせることでXORを表現できるようになる．\n",
    "\n",
    "具体的には，XOR = AND(NAND(x1, x2), OR(x1, x2)) となる\n",
    "\n"
   ]
  },
  {
   "cell_type": "code",
   "execution_count": 16,
   "metadata": {},
   "outputs": [
    {
     "output_type": "stream",
     "name": "stdout",
     "text": "XOR:\n0\n1\n1\n0\n"
    }
   ],
   "source": [
    "def XOR(x1, x2):\n",
    "    s1 = NAND(x1, x2)\n",
    "    s2 = OR(x1, x2)\n",
    "    return AND(s1, s2)\n",
    "\n",
    "print(\"XOR:\")\n",
    "print(XOR(0, 0))\n",
    "print(XOR(1, 0))\n",
    "print(XOR(0, 1))\n",
    "print(XOR(1, 1))"
   ]
  },
  {
   "cell_type": "markdown",
   "metadata": {},
   "source": [
    "## NANDからコンピュータへ\n",
    "\n",
    "NANDを組み合わせれば，現代のコンピュータを実装できる（「コンピュータシステムの理論と実装」or NAND2Tetris参照）"
   ]
  },
  {
   "cell_type": "code",
   "execution_count": null,
   "metadata": {},
   "outputs": [],
   "source": []
  }
 ]
}